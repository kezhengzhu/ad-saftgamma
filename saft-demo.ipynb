{
 "cells": [
  {
   "cell_type": "markdown",
   "metadata": {},
   "source": [
    "# Python SAFT Equation of State"
   ]
  },
  {
   "cell_type": "markdown",
   "metadata": {},
   "source": [
    "The following notebook will run through some tests and demonstration of how the python SAFT package could be used."
   ]
  },
  {
   "cell_type": "code",
   "execution_count": 1,
   "metadata": {},
   "outputs": [],
   "source": [
    "import saftgamma as saft\n",
    "from dervarnp import *\n",
    "import matplotlib.pyplot as plt\n",
    "import pandas as pd"
   ]
  },
  {
   "cell_type": "markdown",
   "metadata": {},
   "source": [
    "## Setting up"
   ]
  },
  {
   "cell_type": "markdown",
   "metadata": {},
   "source": [
    "Object-oriented programming is used for convenience of coding and using different functions. The super classes used here includes:\n",
    "1. `class System()`\n",
    "2. `class MieGroup()`\n",
    "3. `class Component()`\n",
    "\n",
    "Other classes inherit properties from 1 or more of these 3 classes. These classes should contain all the high level functions, such as defining what are the state properties (`System.temperature`, `System.volume`), getting derivatives (`System.dV()`, `System.dT()`) and algorithms used to find properties (`System.critical_point()`, `System.get_kappa()`, `Component.thdebroglie()`, `Component.cp_int()`).\n",
    "\n",
    "In the derived classes from System, the main functions that must be defined (in order to use the System classes' algorithms) are `System.helmholtz()`, `System.helmholtz_residual()`, `System.helmholtz_ideal()`. For instance, the class for SAFT-VR Mie equation of state is `class SAFTVRSystem(System)`, where the relevant functions are created to help in calculating the helmholtz energy. By defining the three functions, the `SAFTVRSystem` class can now use the pre-defined algorithms provided in the `System` super class to find thermodynamic properties.\n",
    "\n",
    "Similarly, the class `MieGroup` defines parameters used in all instances where Mie potential is relevant, with functions to get Mie pre-exponential factor etc. The class `Component` creates a platform for Cp ideal parameters, and thermal debroglie calculations. For SAFT-VR Mie component, it is defined to inherit both `MieGroup` and `Component` due to its definition (`VRMieComponent(MieGroup, Component)`).\n",
    "\n",
    "Classes used for equations-of-state:\n",
    "1. `class SAFTVRSystem(System)`\n",
    "2. `class VRMieComponent(MieGroup, Component)`\n",
    "3. `class SAFTgMieSystem(System)`\n",
    "4. `class GMieGroup(MieGroup)`\n",
    "5. `class GMieComponent(Component)`\n",
    "\n",
    "Following is an example of setting up for both SAFT-VR Mie and SAFT-$\\gamma$ Mie EoS."
   ]
  },
  {
   "cell_type": "code",
   "execution_count": 2,
   "metadata": {},
   "outputs": [],
   "source": [
    "# SAFT-VR Mie\n",
    "# VRMieComponent(mspheres, mw, lambda_r, lambda_a, sigma, epsilon)\n",
    "vr_methane = saft.VRMieComponent(1.0000,  16.04, 12.650, 6, 3.7412, 153.36)\n",
    "vr_ethane =  saft.VRMieComponent(1.4373,  30.07, 12.400, 6, 3.7257, 206.12)\n",
    "vr_ndecane = saft.VRMieComponent(2.9976, 142.29, 18.885, 6, 4.5890, 400.79)\n",
    "\n",
    "# Setting cross interaction\n",
    "# functions: ethane.set_cross_e_kij(other comp, kij val), or set_cross_epsilon(other comp, epsilon val)\n",
    "# or class function: VRMieComponent.combining_e_kij(ethane, ndecane, val) or combining_e_val\n",
    "vr_ethane.set_cross_e_kij(vr_ndecane, -0.0222)\n",
    "\n",
    "# Creating a SAFT-VR System\n",
    "vr1 = saft.SAFTVRSystem().quick_set((vr_ndecane, 500), (vr_ethane, 500))"
   ]
  },
  {
   "cell_type": "code",
   "execution_count": 3,
   "metadata": {},
   "outputs": [],
   "source": [
    "# SAFT-gamma Mie\n",
    "# GMieGroup(lambda_r, lambda_a, sigma, epsilon, molar_weight=None, shape_factor=1., id_seg=1, name=None)\n",
    "CH3 = saft.GMieGroup(15.04982,    6., 4.077257, 256.7662, molar_weight=15.03502, shape_factor=0.5725512, id_seg=1)\n",
    "CH2 = saft.GMieGroup(19.87107,    6., 4.880081, 473.3893, molar_weight=14.02708, shape_factor=0.2293202, id_seg=1)\n",
    "CO2 = saft.GMieGroup(  26.408, 5.055,     3.05,  207.891, molar_weight=44.01,    shape_factor=0.847,     id_seg=2)\n",
    "CH4 = saft.GMieGroup(  12.504,    6.,    3.737,  152.575, molar_weight=16.04296, shape_factor=1,         id_seg=1)\n",
    "\n",
    "# Setting cross interaction, similar to SAFT-VR Mie\n",
    "saft.GMieGroup.combining_e_val(CH3, CH2, 350.770)\n",
    "saft.GMieGroup.combining_e_val(CH3, CO2, 205.698)\n",
    "saft.GMieGroup.combining_e_val(CH2, CO2, 276.453)\n",
    "saft.GMieGroup.combining_e_val(CH4, CH3, 193.97079)\n",
    "saft.GMieGroup.combining_e_val(CH4, CH2, 243.12915)\n",
    "saft.GMieGroup.combining_e_val(CH4, CO2, 144.722)\n",
    "\n",
    "saft.GMieGroup.combining_lr_val(CH4, CH3, 12.62762)\n",
    "saft.GMieGroup.combining_lr_val(CH4, CH2, 12.64155)\n",
    "saft.GMieGroup.combining_lr_val(CH4, CO2, 11.95)\n",
    "\n",
    "# Setting Cp parameters to get a_ideal contribution\n",
    "CH3.set_cp_ideal((  19.5,-8.08e-3,  1.53e-4, -9.67e-8))\n",
    "CH2.set_cp_ideal((-0.909,   0.095, -5.44e-5,  1.19e-8))\n",
    "\n",
    "# GMieComponent(molar_weight=None)\n",
    "g_methane = saft.GMieComponent().quick_set((CH4,1))\n",
    "g_propane = saft.GMieComponent().quick_set((CH3,2), (CH2,1))\n",
    "g_co2     = saft.GMieComponent().quick_set((CO2,1))\n",
    "g_ndecane = saft.GMieComponent().quick_set((CH3,2), (CH2,8))\n",
    "\n",
    "# Creating SAFT-g Mie System\n",
    "gs1 = saft.SAFTgMieSystem().quick_set((g_ndecane, 100), (g_propane, 100))"
   ]
  },
  {
   "cell_type": "markdown",
   "metadata": {},
   "source": [
    "All `sigma` $\\sigma$ values are given in units of Angstrom ($\\overset{\\circ}{\\text{A}}$, 10$^{-10}$m), and all values of `epsilon` is defined as $\\epsilon/k$ where $k$ is the Boltzmann constant, with the units in Kelvin (K). Molar mass are given in g/mol or kg/kmol."
   ]
  },
  {
   "cell_type": "markdown",
   "metadata": {},
   "source": [
    "For `GMieComponent` and `System` classes, `.quick_set(*args)` function takes in variable arguments of tuples to add `GMieGroup` to component or add components to `System`. With the code from above, we have a SAFT-VR Mie system consisting of 500 ethane molecules and 500 n-decane molecules in `vr1`, and a SAFT-$\\gamma$ Mie system with 100 n-decane molecules.\n",
    "\n",
    "By default, the temperature is set to 293K and volume is set to 1000 (nm$^3$)"
   ]
  },
  {
   "cell_type": "markdown",
   "metadata": {},
   "source": [
    "## Units and Calculations from Helmholtz"
   ]
  },
  {
   "cell_type": "markdown",
   "metadata": {},
   "source": [
    "For basic calculations involving helmholtz energy, simply use the following functions:\n",
    "1. `.helmholtz()`\n",
    "2. `.helmholtz_residual()`\n",
    "3. `.helmholtz_ideal()`\n",
    "\n",
    "All functions return helmholtz free energy with the given state properties (temperature in K and volume in nm$^3$). The value will be given in units of J, and essentially returns the helmholtz free energy of the system with the given number of molecules (`.n_molecules`). "
   ]
  },
  {
   "cell_type": "code",
   "execution_count": 4,
   "metadata": {},
   "outputs": [
    {
     "name": "stdout",
     "output_type": "stream",
     "text": [
      "A_Ideal (J):             -1.038e-17\n",
      "A_Residual (J):          -4.498e-19\n",
      "A (J):                   -1.083e-17\n",
      "Molar A (J/mol):         -3.260e+04\n"
     ]
    }
   ],
   "source": [
    "# Setting temperature and volume\n",
    "gs1.temperature = 700\n",
    "gs1.volume = 300\n",
    "\n",
    "print('{:25s}{:8.3e}'.format('A_Ideal (J): ', gs1.helmholtz_ideal()))\n",
    "print('{:25s}{:8.3e}'.format('A_Residual (J): ', gs1.helmholtz_residual()))\n",
    "print('{:25s}{:8.3e}'.format('A (J): ', gs1.helmholtz()))\n",
    "print('{:25s}{:8.3e}'.format('Molar A (J/mol): ', gs1.helmholtz()/gs1.n_molecules*saft.cst.Na)) "
   ]
  },
  {
   "cell_type": "markdown",
   "metadata": {},
   "source": [
    "Most often, the calculations we need are the derivative properties with respect to volume and temperature. Using automatic differentiation, these derivatives are calculated with the following functions under the `System` super class:\n",
    "1. `.dT(a='both')`\n",
    "2. `.dV(a='both')`\n",
    "3. `.dT2(a='both', dT=False)`\n",
    "4. `.dV2(a='both', dV=False)`\n",
    "5. `.dTdV(a='both', first_order=False)`\n",
    "6. `.dN(key=None, a='both')`\n",
    "\n",
    "The parameter `a` can have values of `'res'` or `'id'` in order to isolate the derivatives of the residual or ideal components. By default, the second order functions returns only the second order derivatives, but can return both first and second order derivative by using `dT=True` and `dV=True` for efficiency (first order is already calculated when determining second order, so it's more efficient to get both in one function. Derivatives returns in the respective SI units, but keep in mind that the A and volume used here are extensive properties. \n",
    "\n",
    "For the newly added `.dN` function, the key here used should be the corresponding component in the system. `key=None` will return a list of $\\frac{dA}{dN_i}$ derivatives for each component, and giving a list to key will return the corresponding list of derivatives. Note that the derivatives returns in SI units, and N is considers as no. of molecules (not no. of moles). One will have to multiply by the Avogadro's constant to get molar properties."
   ]
  },
  {
   "cell_type": "code",
   "execution_count": 6,
   "metadata": {},
   "outputs": [
    {
     "name": "stdout",
     "output_type": "stream",
     "text": [
      "dA/dT (J/K):             -5.750e-20\n",
      "dA/dV (Pa):              1.284e+06\n",
      "d2A/dT2 (J/K^2):         -1.420e-22\n",
      "d2A/dV2 (Pa/m3):         1.452e+31\n",
      "dA/dV,d2A/dV2 (Pa, Pa/m3): -5.159e+06, 1.452e+31\n",
      "dT2, dTdV, dV2:           [-1.4203405984135125e-22, -13857.773610928076, 1.4516220996386114e+31]\n",
      "dA/dNi:                   [-8.721457735050694e-20, -5.569361917057097e-21]\n"
     ]
    }
   ],
   "source": [
    "# Using derivatives\n",
    "print('{:25s}{:8.3e}'.format('dA/dT (J/K): ', gs1.dT()))       # extensive property: scales with n_molecules\n",
    "print('{:25s}{:8.3e}'.format('dA/dV (Pa): ', gs1.dV(a='res'))) # intensive\n",
    "print('{:25s}{:8.3e}'.format('d2A/dT2 (J/K^2): ', gs1.dT2()))  # extensive\n",
    "print('{:25s}{:8.3e}'.format('d2A/dV2 (Pa/m3): ', gs1.dV2()))  # extensive but scales inversely\n",
    "\n",
    "dV, dV2 = gs1.dV2(dV=True)\n",
    "print('{:25s}{:8.3e}, {:8.3e}'.format('dA/dV,d2A/dV2 (Pa, Pa/m3): ', dV, dV2))\n",
    "\n",
    "second_orders = gs1.dTdV()\n",
    "print('{:25s}'.format('dT2, dTdV, dV2: '), second_orders)\n",
    "\n",
    "dAdNi = gs1.dN(key=[g_ndecane, g_propane])\n",
    "print('{:25s}'.format('dA/dNi: '), dAdNi)"
   ]
  },
  {
   "cell_type": "markdown",
   "metadata": {},
   "source": [
    "Deriving from these functions are properties determined by evaluating these derivatives directly. The first order properties are relatively easy to evaluate, while the second order properties with respect to temperature are slightly slower computationally, and might hit the recursion limit for mixtures. One could adjust the recursion limit with `import sys` and `sys.setrecursionlimit(3000)`. \n",
    "\n",
    "The list of properties are demonstrated as follows:"
   ]
  },
  {
   "cell_type": "code",
   "execution_count": 7,
   "metadata": {},
   "outputs": [
    {
     "name": "stdout",
     "output_type": "stream",
     "text": [
      "get_pressure (MPa)          5.159\n",
      "get_entropy (J/mol K)     173.150\n",
      "get_u (J/mol)            88606.791\n",
      "get_enthalpy (J/mol)     93266.835\n",
      "get_gibbs (J/mol)        -27937.898\n",
      "get_cv (J/mol K)          299.372\n",
      "get_kappa (1/MPa)           0.230\n",
      "get_cp (J/mol K)          327.256\n",
      "get_w (m/s)               214.811\n",
      "get_jt (K/MPa)              3.388\n"
     ]
    }
   ],
   "source": [
    "# First order properties\n",
    "# energy values are not useful in general without a reference state\n",
    "print('{:25s}{:8.3f}'.format('get_pressure (MPa)',gs1.get_pressure()*1e-6))\n",
    "print('{:25s}{:8.3f}'.format('get_entropy (J/mol K)',gs1.get_entropy()))\n",
    "print('{:25s}{:8.3f}'.format('get_u (J/mol)',gs1.get_u()))\n",
    "print('{:25s}{:8.3f}'.format('get_enthalpy (J/mol)',gs1.get_enthalpy()))\n",
    "print('{:25s}{:8.3f}'.format('get_gibbs (J/mol)',gs1.get_gibbs()))\n",
    "\n",
    "# Second order properties\n",
    "print('{:25s}{:8.3f}'.format('get_cv (J/mol K)',gs1.get_cv()))\n",
    "print('{:25s}{:8.3f}'.format('get_kappa (1/MPa)',gs1.get_kappa() * 1e6))\n",
    "print('{:25s}{:8.3f}'.format('get_cp (J/mol K)',gs1.get_cp()))\n",
    "print('{:25s}{:8.3f}'.format('get_w (m/s)',gs1.get_w()))  \n",
    "print('{:25s}{:8.3f}'.format('get_jt (K/MPa)',gs1.get_jt() *1e6))"
   ]
  },
  {
   "cell_type": "markdown",
   "metadata": {},
   "source": [
    "## Inheriting and Changing Functions"
   ]
  },
  {
   "cell_type": "markdown",
   "metadata": {},
   "source": [
    "To be completed"
   ]
  },
  {
   "cell_type": "markdown",
   "metadata": {},
   "source": [
    "## Inbuilt Functions and Algorithms"
   ]
  },
  {
   "cell_type": "markdown",
   "metadata": {},
   "source": [
    "To be completed"
   ]
  },
  {
   "cell_type": "markdown",
   "metadata": {},
   "source": [
    "### Generating n-alkanes critical properties and VLE data"
   ]
  },
  {
   "cell_type": "code",
   "execution_count": 3,
   "metadata": {},
   "outputs": [],
   "source": [
    "# Defining Mie groups\n",
    "CH3 =  saft.GMieGroup(15.04982, 6., 4.077257, 256.7662, molar_weight=15.03502, shape_factor=0.5725512, id_seg=1, name=\"CH3\")\n",
    "CH2 =  saft.GMieGroup(19.87107, 6., 4.880081, 473.3893, molar_weight=14.02708, shape_factor=0.2293202, id_seg=1, name=\"CH2\")\n",
    "C2H6 = saft.GMieGroup(   10.16, 6.,    3.488,  165.513, molar_weight=30.07004, shape_factor=0.855,     id_seg=2, name=\"C2H6\")\n",
    "\n",
    "CH3.set_cp_ideal((       19.5,      -8.08e-3,       1.53e-4,       -9.67e-8))\n",
    "CH2.set_cp_ideal((     -0.909,         0.095,      -5.44e-5,        1.19e-8))\n",
    "C2H6.set_cp_ideal((12.4755767, 1.44286617e-1, -2.3523953e-5, -8.99334179e-9))\n",
    "\n",
    "saft.GMieGroup.combining_e_val(CH3, CH2, 350.77)\n",
    "\n",
    "# Creating Components and pure systems\n",
    "comps = {}\n",
    "puresys = {}\n",
    "\n",
    "for i in range(2,11):\n",
    "    key = 'C' + str(i)\n",
    "    comps[key] = saft.GMieComponent(i * 12.0107 + (i*2+2) * 1.00784)\n",
    "\n",
    "    if i == 2:\n",
    "        # comps[key].quick_set((CH3, 2))\n",
    "        comps[key].quick_set((C2H6, 1))\n",
    "    else:\n",
    "        comps[key].quick_set((CH3, 2), (CH2, i-2))\n",
    "    puresys[key] = saft.SAFTgMieSystem().quick_set((comps[key], 1000))"
   ]
  },
  {
   "cell_type": "code",
   "execution_count": 4,
   "metadata": {},
   "outputs": [
    {
     "name": "stdout",
     "output_type": "stream",
     "text": [
      "Critical point: pressure =  5.371 bar, temperature = 311.963 K, density = 6191.246 mol/m3\n",
      "Critical point: pressure =  4.901 bar, temperature = 380.682 K, density = 5111.450 mol/m3\n",
      "Critical point: pressure =  4.333 bar, temperature = 434.701 K, density = 4067.784 mol/m3\n",
      "[[5.37085624e+00 3.11963047e+02 6.19124606e+03]\n",
      " [4.90051620e+00 3.80681634e+02 5.11145033e+03]\n",
      " [4.33348743e+00 4.34700731e+02 4.06778355e+03]]\n"
     ]
    }
   ],
   "source": [
    "# Generating critical data\n",
    "pc_data = np.array([])\n",
    "tc_data = np.array([])\n",
    "rhoc_data = np.array([])\n",
    "for i in range(2,5):\n",
    "    key = 'C' + str(i)\n",
    "    t_init = (i+1)**0.7 * 256.77 * 0.40772\n",
    "    v_init =  (i * 12.0107 + (i*2+2) * 1.00784) * 0.001 / 200.\n",
    "    v_range = np.logspace(math.log10(v_init/2), math.log10(v_init*2), 30)\n",
    "    (pc, tc, rhoc) = puresys[key].critical_point(initial_t=t_init, v_nd=v_range, get_volume=False, get_density=True, print_results=False, print_progress=False)\n",
    "    pc_data = np.append(pc_data, pc*1e-6)  # MPa\n",
    "    tc_data = np.append(tc_data, tc)       # K\n",
    "    rhoc_data = np.append(rhoc_data, rhoc) # mol/m3\n",
    "    print('Critical point: pressure = {:6.3f} bar, temperature = {:6.3f} K, density = {:6.3f} mol/m3'.format(pc*1e-6, tc, rhoc))\n",
    "\n",
    "df = np.column_stack([pc_data, tc_data, rhoc_data])\n",
    "\n",
    "# Saving data with pandas: use import pandas as pd to do this\n",
    "# df = pd.DataFrame(np.column_stack([pc_data, tc_data, rhoc_data]))\n",
    "# outputfile = 'saftgmie-alkane-crit-int.csv'\n",
    "# df.to_csv(outputfile, index=False, header=['p_c (bar)', 't_c (K)', 'rho_c (mol/m3)'])\n",
    "# print(f'Data generation complete. Output file: {outputfile}', ' '*5)\n",
    "\n",
    "print(df)"
   ]
  },
  {
   "cell_type": "code",
   "execution_count": 6,
   "metadata": {},
   "outputs": [
    {
     "name": "stdout",
     "output_type": "stream",
     "text": [
      "VLE data for C2  alkane ==========\n",
      "Getting VLE at P = 46.66 bar, T = 304.54 K, v_l = 1.055e-04, v_v = 2.679e-04\n",
      "VLE points solver failed to converge at meaningful results at T=310.40, points too similar (1.791e-04, 1.795e-04)\n",
      "VLE data for C3  alkane ==========\n",
      "Getting VLE at P = 41.85 bar, T = 371.62 K, v_l = 1.326e-04, v_v = 3.611e-04\n",
      "VLE points solver failed to converge at meaningful results at T=378.78, points too similar (3.310e-04, 3.310e-04)\n",
      "VLE data for C4  alkane ==========\n",
      "Getting VLE at P = 36.78 bar, T = 424.36 K, v_l = 1.688e-04, v_v = 4.672e-04\n",
      "VLE points solver failed to converge at meaningful results at T=432.53, points too similar (4.111e-04, 4.111e-04)\n",
      "[[2.00000000e+00 1.40383371e+02 3.97327211e-02 5.06739230e-05\n",
      "  2.93164127e-01 1.97340159e+04 3.41105855e+00]\n",
      " [2.00000000e+00 1.46246125e+02 6.94575091e-02 5.12010123e-05\n",
      "  1.74500513e-01 1.95308638e+04 5.73064218e+00]\n",
      " [2.00000000e+00 1.52108879e+02 1.15728572e-01 5.17508342e-05\n",
      "  1.08750823e-01 1.93233600e+04 9.19533269e+00]\n",
      " [2.00000000e+00 1.57971633e+02 1.84835544e-01 5.23250115e-05\n",
      "  7.05593549e-02 1.91113192e+04 1.41724652e+01]\n",
      " [2.00000000e+00 1.63834386e+02 2.84361900e-01 5.29254160e-05\n",
      "  4.74294422e-02 1.88945138e+04 2.10839502e+01]\n",
      " [2.00000000e+00 1.69697140e+02 4.23176272e-01 5.35541927e-05\n",
      "  3.28918084e-02 1.86726743e+04 3.04027066e+01]\n",
      " [2.00000000e+00 1.75559894e+02 6.11381183e-01 5.42137940e-05\n",
      "  2.34472231e-02 1.84454901e+04 4.26489736e+01]\n",
      " [2.00000000e+00 1.81422648e+02 8.60227717e-01 5.49070229e-05\n",
      "  1.71269948e-02 1.82126065e+04 5.83873592e+01]\n",
      " [2.00000000e+00 1.87285402e+02 1.18200609e+00 5.56370892e-05\n",
      "  1.27835777e-02 1.79736218e+04 7.82253623e+01]\n",
      " [2.00000000e+00 1.93148155e+02 1.58992202e+00 5.64076811e-05\n",
      "  9.72630351e-03 1.77280821e+04 1.02813983e+02]\n",
      " [2.00000000e+00 1.99010909e+02 2.09796793e+00 5.72230561e-05\n",
      "  7.52723298e-03 1.74754735e+04 1.32850943e+02]\n",
      " [2.00000000e+00 2.04873663e+02 2.72079658e+00 5.80881586e-05\n",
      "  5.91411458e-03 1.72152126e+04 1.69087018e+02]\n",
      " [2.00000000e+00 2.10736417e+02 3.47360282e+00 5.90087704e-05\n",
      "  4.70951645e-03 1.69466334e+04 2.12336024e+02]\n",
      " [2.00000000e+00 2.16599171e+02 4.37201802e+00 5.99917089e-05\n",
      "  3.79522227e-03 1.66689701e+04 2.63489179e+02]\n",
      " [2.00000000e+00 2.22461924e+02 5.43201970e+00 6.10450877e-05\n",
      "  3.09085725e-03 1.63813345e+04 3.23534838e+02]\n",
      " [2.00000000e+00 2.28324678e+02 6.66985818e+00 6.21786680e-05\n",
      "  2.54074670e-03 1.60826861e+04 3.93585083e+02]\n",
      " [2.00000000e+00 2.34187432e+02 8.10200094e+00 6.34043377e-05\n",
      "  2.10565597e-03 1.57717916e+04 4.74911389e+02]\n",
      " [2.00000000e+00 2.40050186e+02 9.74509448e+00 6.47367812e-05\n",
      "  1.75749151e-03 1.54471690e+04 5.68992791e+02]\n",
      " [2.00000000e+00 2.45912940e+02 1.16159433e+01 6.61944339e-05\n",
      "  1.47583634e-03 1.51070104e+04 6.77581907e+02]\n",
      " [2.00000000e+00 2.51775693e+02 1.37315045e+01 6.78008843e-05\n",
      "  1.24564424e-03 1.47490702e+04 8.02797433e+02]\n",
      " [2.00000000e+00 2.57638447e+02 1.61088966e+01 6.95869941e-05\n",
      "  1.05567919e-03 1.43705015e+04 9.47257476e+02]\n",
      " [2.00000000e+00 2.63501201e+02 1.87654186e+01 7.15942285e-05\n",
      "  8.97441561e-04 1.39676063e+04 1.11427868e+03]\n",
      " [2.00000000e+00 2.69363955e+02 2.17185758e+01 7.38801215e-05\n",
      "  7.64416779e-04 1.35354407e+04 1.30818688e+03]\n",
      " [2.00000000e+00 2.75226709e+02 2.49861002e+01 7.65277433e-05\n",
      "  6.51538608e-04 1.30671565e+04 1.53482846e+03]\n",
      " [2.00000000e+00 2.81089463e+02 2.85859483e+01 7.96632450e-05\n",
      "  5.54793862e-04 1.25528404e+04 1.80247128e+03]\n",
      " [2.00000000e+00 2.86952216e+02 3.25362306e+01 8.34913424e-05\n",
      "  4.70912378e-04 1.19772898e+04 2.12353730e+03]\n",
      " [2.00000000e+00 2.92814970e+02 3.68549699e+01 8.83761163e-05\n",
      "  3.97084085e-04 1.13152743e+04 2.51835830e+03]\n",
      " [2.00000000e+00 2.98677724e+02 4.15594099e+01 9.50598495e-05\n",
      "  3.30591552e-04 1.05196884e+04 3.02488068e+03]\n",
      " [2.00000000e+00 3.04540478e+02 4.66640475e+01 1.05456397e-04\n",
      "  2.67920351e-04 9.48259209e+03 3.73245256e+03]\n",
      " [2.00000000e+00 3.11963047e+02 5.37085624e+00 1.61518374e-04\n",
      "  1.61518374e-04 6.19124606e+03 6.19124606e+03]\n",
      " [3.00000000e+00 1.71306735e+02 2.35505404e-02 6.84179420e-05\n",
      "  6.03929130e-01 1.46160491e+04 1.65582343e+00]\n",
      " [3.00000000e+00 1.78460924e+02 4.28937344e-02 6.91522612e-05\n",
      "  3.45117300e-01 1.44608431e+04 2.89756555e+00]\n",
      " [3.00000000e+00 1.85615114e+02 7.40958991e-02 6.99150586e-05\n",
      "  2.07524085e-01 1.43030703e+04 4.81871779e+00]\n",
      " [3.00000000e+00 1.92769303e+02 1.22177997e-01 7.07083143e-05\n",
      "  1.30469660e-01 1.41426084e+04 7.66461719e+00]\n",
      " [3.00000000e+00 1.99923492e+02 1.93361469e-01 7.15342530e-05\n",
      "  8.52926979e-02 1.39793170e+04 1.17243331e+01]\n",
      " [3.00000000e+00 2.07077682e+02 2.95097685e-01 7.23953771e-05\n",
      "  5.77072667e-02 1.38130367e+04 1.73288401e+01]\n",
      " [3.00000000e+00 2.14231871e+02 4.36053859e-01 7.32945086e-05\n",
      "  4.02436697e-02 1.36435869e+04 2.48486286e+01]\n",
      " [3.00000000e+00 2.21386060e+02 6.26061603e-01 7.42348395e-05\n",
      "  2.88255358e-02 1.34707639e+04 3.46914627e+01]\n",
      " [3.00000000e+00 2.28540250e+02 8.76036847e-01 7.52199938e-05\n",
      "  2.11412210e-02 1.32943377e+04 4.73009577e+01]\n",
      " [3.00000000e+00 2.35694439e+02 1.19788096e+00 7.62541045e-05\n",
      "  1.58336661e-02 1.31140482e+04 6.31565675e+01]\n",
      " [3.00000000e+00 2.42848628e+02 1.60437276e+00 7.73419103e-05\n",
      "  1.20808683e-02 1.29296005e+04 8.27755068e+01]\n",
      " [3.00000000e+00 2.50002818e+02 2.10906029e+00 7.84888772e-05\n",
      "  9.37056982e-03 1.27406587e+04 1.06717096e+02]\n",
      " [3.00000000e+00 2.57157007e+02 2.72615983e+00 7.97013547e-05\n",
      "  7.37517267e-03 1.25468382e+04 1.35590046e+02]\n",
      " [3.00000000e+00 2.64311196e+02 3.47046825e+00 8.09867771e-05\n",
      "  5.88016317e-03 1.23476947e+04 1.70063308e+02]\n",
      " [3.00000000e+00 2.71465386e+02 4.35729369e+00 8.23539286e-05\n",
      "  4.74200313e-03 1.21427115e+04 2.10881346e+02]\n",
      " [3.00000000e+00 2.78619575e+02 5.40240841e+00 8.38132966e-05\n",
      "  3.86271823e-03 1.19312811e+04 2.58885050e+02]\n",
      " [3.00000000e+00 2.85773764e+02 6.62202714e+00 8.53775505e-05\n",
      "  3.17419863e-03 1.17126808e+04 3.15040146e+02]\n",
      " [3.00000000e+00 2.92927954e+02 8.03281434e+00 8.70622066e-05\n",
      "  2.62828720e-03 1.14860401e+04 3.80475923e+02]\n",
      " [3.00000000e+00 3.00082143e+02 9.65192433e+00 8.88865697e-05\n",
      "  2.19039457e-03 1.12502935e+04 4.56538750e+02]\n",
      " [3.00000000e+00 3.07236332e+02 1.14970796e+01 9.08751056e-05\n",
      "  1.83530815e-03 1.10041138e+04 5.44867629e+02]\n",
      " [3.00000000e+00 3.14390521e+02 1.35866963e+01 9.30595038e-05\n",
      "  1.54439198e-03 1.07458127e+04 6.47504009e+02]\n",
      " [3.00000000e+00 3.21544711e+02 1.59400698e+01 9.54818970e-05\n",
      "  1.30368342e-03 1.04731895e+04 7.67057389e+02]\n",
      " [3.00000000e+00 3.28698900e+02 1.85776464e+01 9.82001161e-05\n",
      "  1.10257615e-03 1.01832873e+04 9.06966834e+02]\n",
      " [3.00000000e+00 3.35853089e+02 2.15214237e+01 1.01296757e-04\n",
      "  9.32889412e-04 9.87198437e+03 1.07193842e+03]\n",
      " [3.00000000e+00 3.43007279e+02 2.47955667e+01 1.04895962e-04\n",
      "  7.88188538e-04 9.53325546e+03 1.26873197e+03]\n",
      " [3.00000000e+00 3.50161468e+02 2.84274206e+01 1.09197475e-04\n",
      "  6.63255071e-04 9.15772094e+03 1.50771557e+03]\n",
      " [3.00000000e+00 3.57315657e+02 3.24493407e+01 1.14555087e-04\n",
      "  5.53601771e-04 8.72942463e+03 1.80635260e+03]\n",
      " [3.00000000e+00 3.64469847e+02 3.69024674e+01 1.21694853e-04\n",
      "  4.54832437e-04 8.21727441e+03 2.19861188e+03]\n",
      " [3.00000000e+00 3.71624036e+02 4.18462544e+01 1.32552868e-04\n",
      "  3.61070227e-04 7.54415965e+03 2.76954433e+03]\n",
      " [3.00000000e+00 3.80681634e+02 4.90051620e+00 1.95639190e-04\n",
      "  1.95639190e-04 5.11145033e+03 5.11145033e+03]\n",
      " [4.00000000e+00 1.95615329e+02 1.30435572e-02 8.54579814e-05\n",
      "  1.24577209e+00 1.17016572e+04 8.02715045e-01]\n",
      " [4.00000000e+00 2.03784705e+02 2.48888554e-02 8.64122380e-05\n",
      "  6.79692448e-01 1.15724349e+04 1.47125366e+00]\n",
      " [4.00000000e+00 2.11954081e+02 4.48188317e-02 8.74026602e-05\n",
      "  3.92191840e-01 1.14412994e+04 2.54977258e+00]\n",
      " [4.00000000e+00 2.20123457e+02 7.67044153e-02 8.84318396e-05\n",
      "  2.37656529e-01 1.13081443e+04 4.20775311e+00]\n",
      " [4.00000000e+00 2.28292832e+02 1.25513749e-01 8.95026849e-05\n",
      "  1.50334984e-01 1.11728492e+04 6.65181167e+00]\n",
      " [4.00000000e+00 2.36462208e+02 1.97383034e-01 9.06184659e-05\n",
      "  9.87612521e-02 1.10352784e+04 1.01254285e+01]\n",
      " [4.00000000e+00 2.44631584e+02 2.99643675e-01 9.17828660e-05\n",
      "  6.70792563e-02 1.08952797e+04 1.49077383e+01]\n",
      " [4.00000000e+00 2.52800960e+02 4.40807861e-01 9.30000472e-05\n",
      "  4.69220326e-02 1.07526827e+04 2.13119497e+01]\n",
      " [4.00000000e+00 2.60970336e+02 6.30518735e-01 9.42747310e-05\n",
      "  3.36881770e-02 1.06072962e+04 2.96840045e+01]\n",
      " [4.00000000e+00 2.69139711e+02 8.79473800e-01 9.56122971e-05\n",
      "  2.47512082e-02 1.04589057e+04 4.04020682e+01]\n",
      " [4.00000000e+00 2.77309087e+02 1.19933136e+00 9.70189094e-05\n",
      "  1.85606579e-02 1.03072690e+04 5.38774007e+01]\n",
      " [4.00000000e+00 2.85478463e+02 1.60260974e+00 9.85016746e-05\n",
      "  1.41729131e-02 1.01521117e+04 7.05571250e+01]\n",
      " [4.00000000e+00 2.93647839e+02 2.10258822e+00 1.00068845e-04\n",
      "  1.09975410e-02 9.99312020e+03 9.09294176e+01]\n",
      " [4.00000000e+00 3.01817215e+02 2.71321748e+00 1.01730084e-04\n",
      "  8.65563165e-03 9.82993387e+03 1.15531719e+02]\n",
      " [4.00000000e+00 3.09986591e+02 3.44904616e+00 1.03496810e-04\n",
      "  6.89832472e-03 9.66213353e+03 1.44962732e+02]\n",
      " [4.00000000e+00 3.18155966e+02 4.32516887e+00 1.05382663e-04\n",
      "  5.55866561e-03 9.48922692e+03 1.79899290e+02]\n",
      " [4.00000000e+00 3.26325342e+02 5.35720065e+00 1.07404131e-04\n",
      "  4.52243825e-03 9.31062885e+03 2.21119658e+02]\n",
      " [4.00000000e+00 3.34494718e+02 6.56128217e+00 1.09581428e-04\n",
      "  3.71008371e-03 9.12563398e+03 2.69535697e+02]\n",
      " [4.00000000e+00 3.42664094e+02 7.95412090e+00 1.11939730e-04\n",
      "  3.06525008e-03 8.93337872e+03 3.26237656e+02]\n",
      " [4.00000000e+00 3.50833470e+02 9.55307445e+00 1.14510988e-04\n",
      "  2.54739632e-03 8.73278644e+03 3.92557685e+02]\n",
      " [4.00000000e+00 3.59002845e+02 1.13762852e+01 1.17336647e-04\n",
      "  2.12692528e-03 8.52248662e+03 4.70162261e+02]\n",
      " [4.00000000e+00 3.67172221e+02 1.34428803e+01 1.20471898e-04\n",
      "  1.78192352e-03 8.30069098e+03 5.61191312e+02]\n",
      " [4.00000000e+00 3.75341597e+02 1.57732595e+01 1.23992627e-04\n",
      "  1.49593815e-03 8.06499569e+03 6.68476837e+02]\n",
      " [4.00000000e+00 3.83510973e+02 1.83895112e+01 1.28007398e-04\n",
      "  1.25643026e-03 7.81204846e+03 7.95905694e+02]\n",
      " [4.00000000e+00 3.91680349e+02 2.13160310e+01 1.32679674e-04\n",
      "  1.05366823e-03 7.53694949e+03 9.49065341e+02]\n",
      " [4.00000000e+00 3.99849725e+02 2.45804936e+01 1.38272897e-04\n",
      "  8.79891086e-04 7.23207530e+03 1.13650430e+03]\n",
      " [4.00000000e+00 4.08019100e+02 2.82155254e+01 1.45254389e-04\n",
      "  7.28584807e-04 6.88447356e+03 1.37252382e+03]\n",
      " [4.00000000e+00 4.16188476e+02 3.22619839e+01 1.54584228e-04\n",
      "  5.93607849e-04 6.46896528e+03 1.68461384e+03]\n",
      " [4.00000000e+00 4.24357852e+02 3.67768236e+01 1.68821963e-04\n",
      "  4.67207725e-04 5.92339991e+03 2.14037557e+03]\n",
      " [4.00000000e+00 4.34700731e+02 4.33348743e+00 2.45834122e-04\n",
      "  2.45834122e-04 4.06778355e+03 4.06778355e+03]]\n"
     ]
    }
   ],
   "source": [
    "# Generating VLE data\n",
    "carbon = np.array([])\n",
    "t_data = np.array([])\n",
    "p_data = np.array([])\n",
    "rhol = np.array([])\n",
    "rhog = np.array([])\n",
    "vl_data = np.array([])\n",
    "vv_data = np.array([])\n",
    "for i in range(2,5):\n",
    "    key = 'C' + str(i)\n",
    "    print('VLE data for {:3s} alkane'.format(key), '='*10)\n",
    "    temp_range = np.linspace(tc_data[i-2]* 0.45, tc_data[i-2] * 0.995, 30) # for 30 points\n",
    "    for j in range(len(temp_range)):\n",
    "        t = temp_range[j]\n",
    "        try: \n",
    "            if j == 0:\n",
    "                ig = (0.25/rhoc_data[i-2],100/rhoc_data[i-2])\n",
    "                # ig = (0.4 * (i * 12.0107 + (i*2+2) * 1.00784) * 0.001 / 200., 50 * (i * 12.0107 + (i*2+2) * 1.00784) * 0.001 / 200.)\n",
    "            else:\n",
    "                ig = vle\n",
    "            pv, vle = puresys[key].vapour_pressure(t, initial_guess=ig, get_volume=True, print_results=False)\n",
    "            if abs(vle[0] - vle[1]) < 1e-6:\n",
    "                print()\n",
    "                print(f'VLE points solver failed to converge at meaningful results at T={t:5.2f}, points too similar ({vle[0]:7.3e}, {vle[1]:7.3e})')\n",
    "                vle = ig\n",
    "            else:\n",
    "                carbon = np.append(carbon, i)\n",
    "                t_data = np.append(t_data, t)\n",
    "                p_data = np.append(p_data, pv * 1e-5)\n",
    "                vl_data = np.append(vl_data, min(vle))\n",
    "                vv_data = np.append(vv_data, max(vle))\n",
    "                rhol = np.append(rhol, 1/min(vle))\n",
    "                rhog = np.append(rhog, 1/max(vle))\n",
    "                print(f'Getting VLE at P = {pv*1e-5:5.2f} bar, T = {t:5.2f} K, v_l = {min(vle):7.3e}, v_v = {max(vle):7.3e}', end='\\r')\n",
    "        except:\n",
    "            print('VLE solver failed at T={t:5.2f} due to out of range operations. Current point aborted.')\n",
    "    carbon = np.append(carbon, i)\n",
    "    t_data = np.append(t_data, tc_data[i-2])\n",
    "    p_data = np.append(p_data, pc_data[i-2])\n",
    "    vl_data = np.append(vl_data, 1/rhoc_data[i-2])\n",
    "    vv_data = np.append(vv_data, 1/rhoc_data[i-2])\n",
    "    rhol = np.append(rhol, rhoc_data[i-2])\n",
    "    rhog = np.append(rhog, rhoc_data[i-2])\n",
    "\n",
    "df = np.column_stack([carbon, t_data, p_data, vl_data, vv_data, rhol, rhog])\n",
    "\n",
    "print(df)"
   ]
  },
  {
   "cell_type": "code",
   "execution_count": 7,
   "metadata": {},
   "outputs": [
    {
     "name": "stdout",
     "output_type": "stream",
     "text": [
      "Data generation complete. Output file: saftgm-gc-alkanes-vle-int.csv      \n"
     ]
    }
   ],
   "source": [
    "# Saving data with pandas: use import pandas as pd to do this\n",
    "df = pd.DataFrame(np.column_stack([carbon, t_data, p_data, vl_data, vv_data, rhol, rhog]))\n",
    "outputfile = 'saftgm-gc-alkanes-vle-int.csv'\n",
    "df.to_csv(outputfile, index=False, header=['carbons', 't (K)', 'p_v (bar)', 'v_l (m3/mol)', 'v_v (m3/mol)', 'rho_l (mol/m3)', 'rho_g (mol/m3)'])\n",
    "print(f'Data generation complete. Output file: {outputfile}', ' '*5)"
   ]
  },
  {
   "cell_type": "code",
   "execution_count": 13,
   "metadata": {},
   "outputs": [
    {
     "name": "stdout",
     "output_type": "stream",
     "text": [
      "Critical Pressure (MPa):  2.364\n",
      "Critical Temperature (K): 636.521\n",
      "Critical Density (mol/m3): 1562.707\n",
      "Cp at 500.000K calculated to be 434.017\n",
      "Cp at 514.286K calculated to be 443.443\n",
      "Cp at 528.571K calculated to be 453.308\n",
      "Cp at 542.857K calculated to be 463.800\n",
      "Cp at 557.143K calculated to be 475.214\n",
      "Cp at 571.429K calculated to be 488.038\n",
      "Cp at 585.714K calculated to be 503.141\n",
      "Cp at 600.000K calculated to be 522.221\n",
      "Cp at 614.286K calculated to be 549.086\n",
      "Cp at 628.571K calculated to be 594.112\n",
      "Cp at 642.857K calculated to be 693.234\n",
      "Cp at 657.143K calculated to be 817.561\n",
      "Cp at 671.429K calculated to be 615.959\n",
      "Cp at 685.714K calculated to be 548.002\n",
      "Cp at 700.000K calculated to be 523.929\n"
     ]
    },
    {
     "data": {
      "image/png": "[encoded data removed]",
      "text/plain": [
       "<Figure size 720x432 with 1 Axes>"
      ]
     },
     "metadata": {
      "needs_background": "light"
     },
     "output_type": "display_data"
    }
   ],
   "source": [
    "(pc, tc, rhoc) = gs1.critical_point(initial_t=380., v_nd=np.logspace(-3.5,-0.5,50), get_volume=False, get_density=True, print_results=False, print_progress=False)\n",
    "print('{:25s}{:6.3f}'.format('Critical Pressure (MPa): ', pc/1e6))\n",
    "print('{:25s}{:6.3f}'.format('Critical Temperature (K): ', tc))\n",
    "print('{:25s}{:6.3f}'.format('Critical Density (mol/m3): ', rhoc))\n",
    "\n",
    "trange = np.linspace(500,700,15)\n",
    "vget = np.zeros(15)\n",
    "cp = np.zeros(15)\n",
    "\n",
    "fig = plt.figure(figsize=(10,6))\n",
    "ax = fig.add_subplot(111)\n",
    "for i in range(len(trange)):\n",
    "    t = trange[i]\n",
    "    vget[i] = gs1.single_phase_v(3e6, t, print_results=False, v_crit=1/rhoc, v_init=0.3/rhoc, supercritical=True)\n",
    "    cp[i] = gs1.get_cp(temperature=t, molar_volume=vget[i])\n",
    "    print('Cp at {:6.3f}K calculated to be {:6.3f}'.format(t, cp[i]))\n",
    "    ax.plot(trange[i], cp[i], 'bo')"
   ]
  }
 ],
 "metadata": {
  "kernelspec": {
   "display_name": "Python 3",
   "language": "python",
   "name": "python3"
  },
  "language_info": {
   "codemirror_mode": {
    "name": "ipython",
    "version": 3
   },
   "file_extension": ".py",
   "mimetype": "text/x-python",
   "name": "python",
   "nbconvert_exporter": "python",
   "pygments_lexer": "ipython3",
   "version": "3.8.3"
  }
 },
 "nbformat": 4,
 "nbformat_minor": 2
}
