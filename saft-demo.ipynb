{
 "cells": [
  {
   "cell_type": "markdown",
   "metadata": {},
   "source": [
    "# Python SAFT Equation of State"
   ]
  },
  {
   "cell_type": "markdown",
   "metadata": {},
   "source": [
    "The following notebook will run through some tests and demonstration of how the python SAFT package could be used."
   ]
  },
  {
   "cell_type": "code",
   "execution_count": 3,
   "metadata": {},
   "outputs": [],
   "source": [
    "import saftgamma as saft\n",
    "from dervarnp import *\n",
    "import matplotlib.pyplot as plt"
   ]
  },
  {
   "cell_type": "markdown",
   "metadata": {},
   "source": [
    "## Setting up"
   ]
  },
  {
   "cell_type": "markdown",
   "metadata": {},
   "source": [
    "Object-oriented programming is used for convenience of coding and using different functions. The super classes used here includes:\n",
    "1. `class System()`\n",
    "2. `class MieGroup()`\n",
    "3. `class Component()`\n",
    "\n",
    "Other classes inherit properties from 1 or more of these 3 classes. These classes should contain all the high level functions, such as defining what are the state properties (`System.temperature`, `System.volume`), getting derivatives (`System.dV()`, `System.dT()`) and algorithms used to find properties (`System.critical_point()`, `System.get_kappa()`, `Component.thdebroglie()`, `Component.cp_int()`).\n",
    "\n",
    "In the derived classes from System, the main functions that must be defined (in order to use the System classes' algorithms) are `System.helmholtz()`, `System.helmholtz_residual()`, `System.helmholtz_ideal()`. For instance, the class for SAFT-VR Mie equation of state is `class SAFTVRSystem(System)`, where the relevant functions are created to help in calculating the helmholtz energy. By defining the three functions, the `SAFTVRSystem` class can now use the pre-defined algorithms provided in the `System` super class to find thermodynamic properties.\n",
    "\n",
    "Similarly, the class `MieGroup` defines parameters used in all instances where Mie potential is relevant, with functions to get Mie pre-exponential factor etc. The class `Component` creates a platform for Cp ideal parameters, and thermal debroglie calculations. For SAFT-VR Mie component, it is defined to inherit both `MieGroup` and `Component` due to its definition (`VRMieComponent(MieGroup, Component)`).\n",
    "\n",
    "Classes used for equations-of-state:\n",
    "1. `class SAFTVRSystem(System)`\n",
    "2. `class VRMieComponent(MieGroup, Component)`\n",
    "3. `class SAFTgMieSystem(System)`\n",
    "4. `class GMieGroup(MieGroup)`\n",
    "5. `class GMieComponent(Component)`\n",
    "\n",
    "Following is an example of setting up for both SAFT-VR Mie and SAFT-$\\gamma$ Mie EoS."
   ]
  },
  {
   "cell_type": "code",
   "execution_count": 4,
   "metadata": {},
   "outputs": [],
   "source": [
    "# SAFT-VR Mie\n",
    "# VRMieComponent(mspheres, mw, lambda_r, lambda_a, sigma, epsilon)\n",
    "vr_methane = saft.VRMieComponent(1.0000,  16.04, 12.650, 6, 3.7412, 153.36)\n",
    "vr_ethane =  saft.VRMieComponent(1.4373,  30.07, 12.400, 6, 3.7257, 206.12)\n",
    "vr_ndecane = saft.VRMieComponent(2.9976, 142.29, 18.885, 6, 4.5890, 400.79)\n",
    "\n",
    "# Setting cross interaction\n",
    "# functions: ethane.set_cross_e_kij(other comp, kij val), or set_cross_epsilon(other comp, epsilon val)\n",
    "# or class function: VRMieComponent.combining_e_kij(ethane, ndecane, val) or combining_e_val\n",
    "vr_ethane.set_cross_e_kij(vr_ndecane, -0.0222)\n",
    "\n",
    "# Creating a SAFT-VR System\n",
    "vr1 = saft.SAFTVRSystem().quick_set((vr_ndecane, 500), (vr_ethane, 500))"
   ]
  },
  {
   "cell_type": "code",
   "execution_count": 5,
   "metadata": {},
   "outputs": [],
   "source": [
    "# SAFT-gamma Mie\n",
    "# GMieGroup(lambda_r, lambda_a, sigma, epsilon, molar_weight=None, shape_factor=1., id_seg=1, name=None)\n",
    "CH3 = saft.GMieGroup(15.04982,    6., 4.077257, 256.7662, molar_weight=15.03502, shape_factor=0.5725512, id_seg=1)\n",
    "CH2 = saft.GMieGroup(19.87107,    6., 4.880081, 473.3893, molar_weight=14.02708, shape_factor=0.2293202, id_seg=1)\n",
    "CO2 = saft.GMieGroup(  26.408, 5.055,     3.05,  207.891, molar_weight=44.01,    shape_factor=0.847,     id_seg=2)\n",
    "CH4 = saft.GMieGroup(  12.504,    6.,    3.737,  152.575, molar_weight=16.04296, shape_factor=1,         id_seg=1)\n",
    "\n",
    "# Setting cross interaction, similar to SAFT-VR Mie\n",
    "saft.GMieGroup.combining_e_val(CH3, CH2, 350.770)\n",
    "saft.GMieGroup.combining_e_val(CH3, CO2, 205.698)\n",
    "saft.GMieGroup.combining_e_val(CH2, CO2, 276.453)\n",
    "saft.GMieGroup.combining_e_val(CH4, CH3, 193.97079)\n",
    "saft.GMieGroup.combining_e_val(CH4, CH2, 243.12915)\n",
    "saft.GMieGroup.combining_e_val(CH4, CO2, 144.722)\n",
    "\n",
    "saft.GMieGroup.combining_lr_val(CH4, CH3, 12.62762)\n",
    "saft.GMieGroup.combining_lr_val(CH4, CH2, 12.64155)\n",
    "saft.GMieGroup.combining_lr_val(CH4, CO2, 11.95)\n",
    "\n",
    "# Setting Cp parameters to get a_ideal contribution\n",
    "CH3.set_cp_ideal((  19.5,-8.08e-3,  1.53e-4, -9.67e-8))\n",
    "CH2.set_cp_ideal((-0.909,   0.095, -5.44e-5,  1.19e-8))\n",
    "\n",
    "# GMieComponent(molar_weight=None)\n",
    "g_methane = saft.GMieComponent().quick_set((CH4,1))\n",
    "g_propane = saft.GMieComponent().quick_set((CH3,2), (CH2,1))\n",
    "g_co2     = saft.GMieComponent().quick_set((CO2,1))\n",
    "g_ndecane = saft.GMieComponent().quick_set((CH3,2), (CH2,8))\n",
    "\n",
    "# Creating SAFT-g Mie System\n",
    "gs1 = saft.SAFTgMieSystem().quick_set((g_ndecane, 100))"
   ]
  },
  {
   "cell_type": "markdown",
   "metadata": {},
   "source": [
    "All `sigma` $\\sigma$ values are given in units of Angstrom ($\\overset{\\circ}{\\text{A}}$, 10$^{-10}$m), and all values of `epsilon` is defined as $\\epsilon/k$ where $k$ is the Boltzmann constant, with the units in Kelvin (K). Molar mass are given in g/mol or kg/kmol."
   ]
  },
  {
   "cell_type": "markdown",
   "metadata": {},
   "source": [
    "For `GMieComponent` and `System` classes, `.quick_set(*args)` function takes in variable arguments of tuples to add `GMieGroup` to component or add components to `System`. With the code from above, we have a SAFT-VR Mie system consisting of 500 ethane molecules and 500 n-decane molecules in `vr1`, and a SAFT-$\\gamma$ Mie system with 100 n-decane molecules.\n",
    "\n",
    "By default, the temperature is set to 293K and volume is set to 1000 (nm$^3$)"
   ]
  },
  {
   "cell_type": "markdown",
   "metadata": {},
   "source": [
    "## Units and Calculations from Helmholtz"
   ]
  },
  {
   "cell_type": "markdown",
   "metadata": {},
   "source": [
    "For basic calculations involving helmholtz energy, simply use the following functions:\n",
    "1. `.helmholtz()`\n",
    "2. `.helmholtz_residual()`\n",
    "3. `.helmholtz_ideal()`\n",
    "\n",
    "All functions return helmholtz free energy with the given state properties (temperature in K and volume in nm$^3$). The value will be given in units of J, and essentially returns the helmholtz free energy of the system with the given number of molecules (`.n_molecules`). "
   ]
  },
  {
   "cell_type": "code",
   "execution_count": 10,
   "metadata": {},
   "outputs": [
    {
     "name": "stdout",
     "output_type": "stream",
     "text": [
      "A_Ideal (J):             -9.014e-18\n",
      "A_Residual (J):          -2.992e-19\n",
      "A (J):                   -9.313e-18\n",
      "Molar A (J/mol):         -5.609e+04\n"
     ]
    }
   ],
   "source": [
    "# Setting temperature and volume\n",
    "gs1.temperature = 700\n",
    "gs1.volume = 300\n",
    "\n",
    "print('{:25s}{:8.3e}'.format('A_Ideal (J): ', gs1.helmholtz_ideal()))\n",
    "print('{:25s}{:8.3e}'.format('A_Residual (J): ', gs1.helmholtz_residual()))\n",
    "print('{:25s}{:8.3e}'.format('A (J): ', gs1.helmholtz()))\n",
    "print('{:25s}{:8.3e}'.format('Molar A (J/mol): ', gs1.helmholtz()/gs1.n_molecules*saft.cst.Na)) "
   ]
  },
  {
   "cell_type": "markdown",
   "metadata": {},
   "source": [
    "Most often, the calculations we need are the derivative properties with respect to volume and temperature. Using automatic differentiation, these derivatives are calculated with the following functions under the `System` super class:\n",
    "1. `.dT(a='both')`\n",
    "2. `.dV(a='both')`\n",
    "3. `.dT2(a='both', dT=False)`\n",
    "4. `.dV2(a='both', dV=False)`\n",
    "5. `.dTdV(a='both', first_order=False)`\n",
    "\n",
    "The parameter `a` can have values of `'res'` or `'id'` in order to isolate the derivatives of the residual or ideal components. By default, the second order functions returns only the second order derivatives, but can return both first and second order derivative by using `dT=True` and `dV=True` for efficiency (first order is already calculated when determining second order, so it's more efficient to get both in one function. Derivatives returns in the respective SI units, but keep in mind that the A and volume used here are extensive properties. "
   ]
  },
  {
   "cell_type": "code",
   "execution_count": 11,
   "metadata": {},
   "outputs": [
    {
     "name": "stdout",
     "output_type": "stream",
     "text": [
      "dA/dT (J/K):             -4.601e-20\n",
      "dA/dV (Pa):              9.143e+05\n",
      "d2A/dT2 (J/K^2):         -1.069e-22\n",
      "d2A/dV2 (Pa/m3):         5.221e+30\n",
      "dA/dV,d2A/dV2 (Pa, Pa/m3): -2.307e+06, 5.221e+30\n",
      "dT2, dTdV, dV2:           [-1.0693629532149964e-22, -6924.400198300692, 5.22050387576022e+30]\n"
     ]
    }
   ],
   "source": [
    "# Using derivatives\n",
    "print('{:25s}{:8.3e}'.format('dA/dT (J/K): ', gs1.dT()))       # extensive property: scales with n_molecules\n",
    "print('{:25s}{:8.3e}'.format('dA/dV (Pa): ', gs1.dV(a='res'))) # intensive\n",
    "print('{:25s}{:8.3e}'.format('d2A/dT2 (J/K^2): ', gs1.dT2()))  # extensive\n",
    "print('{:25s}{:8.3e}'.format('d2A/dV2 (Pa/m3): ', gs1.dV2()))  # extensive but scales inversely\n",
    "\n",
    "dV, dV2 = gs1.dV2(dV=True)\n",
    "print('{:25s}{:8.3e}, {:8.3e}'.format('dA/dV,d2A/dV2 (Pa, Pa/m3): ', dV, dV2))\n",
    "\n",
    "second_orders = gs1.dTdV()\n",
    "print('{:25s}'.format('dT2, dTdV, dV2: '), second_orders)"
   ]
  },
  {
   "cell_type": "markdown",
   "metadata": {},
   "source": [
    "Deriving from these functions are properties determined by evaluating these derivatives directly. The first order properties are relatively easy to evaluate, while the second order properties with respect to temperature are slightly slower computationally, and might hit the recursion limit for mixtures. One could adjust the recursion limit with `import sys` and `sys.setrecursionlimit(3000)`. \n",
    "\n",
    "The list of properties are demonstrated as follows:"
   ]
  },
  {
   "cell_type": "code",
   "execution_count": 12,
   "metadata": {},
   "outputs": [
    {
     "name": "stdout",
     "output_type": "stream",
     "text": [
      "get_pressure (MPa)          2.307\n",
      "get_entropy (J/mol K)     277.072\n",
      "get_u (J/mol)            137864.852\n",
      "get_enthalpy (J/mol)     142033.182\n",
      "get_gibbs (J/mol)        -51917.327\n",
      "get_cv (J/mol K)          450.790\n",
      "get_kappa (1/MPa)           0.639\n",
      "get_cp (J/mol K)          489.507\n",
      "get_w (m/s)               146.948\n",
      "get_jt (K/MPa)              7.732\n"
     ]
    }
   ],
   "source": [
    "# First order properties\n",
    "# energy values are not useful in general without a reference state\n",
    "print('{:25s}{:8.3f}'.format('get_pressure (MPa)',gs1.get_pressure()*1e-6))\n",
    "print('{:25s}{:8.3f}'.format('get_entropy (J/mol K)',gs1.get_entropy()))\n",
    "print('{:25s}{:8.3f}'.format('get_u (J/mol)',gs1.get_u()))\n",
    "print('{:25s}{:8.3f}'.format('get_enthalpy (J/mol)',gs1.get_enthalpy()))\n",
    "print('{:25s}{:8.3f}'.format('get_gibbs (J/mol)',gs1.get_gibbs()))\n",
    "\n",
    "# Second order properties\n",
    "print('{:25s}{:8.3f}'.format('get_cv (J/mol K)',gs1.get_cv()))\n",
    "print('{:25s}{:8.3f}'.format('get_kappa (1/MPa)',gs1.get_kappa() * 1e6))\n",
    "print('{:25s}{:8.3f}'.format('get_cp (J/mol K)',gs1.get_cp()))\n",
    "print('{:25s}{:8.3f}'.format('get_w (m/s)',gs1.get_w()))  \n",
    "print('{:25s}{:8.3f}'.format('get_jt (K/MPa)',gs1.get_jt() *1e6))"
   ]
  },
  {
   "cell_type": "markdown",
   "metadata": {},
   "source": [
    "## Inheriting and Changing Functions"
   ]
  },
  {
   "cell_type": "markdown",
   "metadata": {},
   "source": [
    "## Inbuilt Functions and Algorithms"
   ]
  },
  {
   "cell_type": "code",
   "execution_count": null,
   "metadata": {},
   "outputs": [],
   "source": []
  },
  {
   "cell_type": "code",
   "execution_count": 13,
   "metadata": {},
   "outputs": [
    {
     "name": "stdout",
     "output_type": "stream",
     "text": [
      "Critical Pressure (MPa):  2.364\n",
      "Critical Temperature (K): 636.521\n",
      "Critical Density (mol/m3): 1562.707\n",
      "Cp at 500.000K calculated to be 434.017\n",
      "Cp at 514.286K calculated to be 443.443\n",
      "Cp at 528.571K calculated to be 453.308\n",
      "Cp at 542.857K calculated to be 463.800\n",
      "Cp at 557.143K calculated to be 475.214\n",
      "Cp at 571.429K calculated to be 488.038\n",
      "Cp at 585.714K calculated to be 503.141\n",
      "Cp at 600.000K calculated to be 522.221\n",
      "Cp at 614.286K calculated to be 549.086\n",
      "Cp at 628.571K calculated to be 594.112\n",
      "Cp at 642.857K calculated to be 693.234\n",
      "Cp at 657.143K calculated to be 817.561\n",
      "Cp at 671.429K calculated to be 615.959\n",
      "Cp at 685.714K calculated to be 548.002\n",
      "Cp at 700.000K calculated to be 523.929\n"
     ]
    },
    {
     "data": {
      "image/png": "[encoded data removed]",
      "text/plain": [
       "<Figure size 720x432 with 1 Axes>"
      ]
     },
     "metadata": {
      "needs_background": "light"
     },
     "output_type": "display_data"
    }
   ],
   "source": [
    "(pc, tc, rhoc) = gs1.critical_point(initial_t=380., v_nd=np.logspace(-3.5,-0.5,50), get_volume=False, get_density=True, print_results=False, print_progress=False)\n",
    "print('{:25s}{:6.3f}'.format('Critical Pressure (MPa): ', pc/1e6))\n",
    "print('{:25s}{:6.3f}'.format('Critical Temperature (K): ', tc))\n",
    "print('{:25s}{:6.3f}'.format('Critical Density (mol/m3): ', rhoc))\n",
    "\n",
    "trange = np.linspace(500,700,15)\n",
    "vget = np.zeros(15)\n",
    "cp = np.zeros(15)\n",
    "\n",
    "fig = plt.figure(figsize=(10,6))\n",
    "ax = fig.add_subplot(111)\n",
    "for i in range(len(trange)):\n",
    "    t = trange[i]\n",
    "    vget[i] = gs1.single_phase_v(3e6, t, print_results=False, v_crit=1/rhoc, v_init=0.3/rhoc, supercritical=True)\n",
    "    cp[i] = gs1.get_cp(temperature=t, molar_volume=vget[i])\n",
    "    print('Cp at {:6.3f}K calculated to be {:6.3f}'.format(t, cp[i]))\n",
    "    ax.plot(trange[i], cp[i], 'bo')"
   ]
  }
 ],
 "metadata": {
  "kernelspec": {
   "display_name": "Python 3",
   "language": "python",
   "name": "python3"
  },
  "language_info": {
   "codemirror_mode": {
    "name": "ipython",
    "version": 3
   },
   "file_extension": ".py",
   "mimetype": "text/x-python",
   "name": "python",
   "nbconvert_exporter": "python",
   "pygments_lexer": "ipython3",
   "version": "3.7.4"
  }
 },
 "nbformat": 4,
 "nbformat_minor": 2
}
